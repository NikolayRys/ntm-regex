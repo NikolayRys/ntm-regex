{
 "cells": [
  {
   "cell_type": "markdown",
   "source": [
    "# Dataset generation for the tasks\n",
    "This file contains the code to generate the datasets for the tasks in the form of CSVs and pickles. The datasets are generated using the functions defined in this file."
   ],
   "metadata": {
    "collapsed": false,
    "pycharm": {
     "name": "#%% md\n"
    }
   }
  },
  {
   "cell_type": "code",
   "execution_count": 136,
   "outputs": [],
   "source": [
    "# Import libraries used in the notebook\n",
    "from automata_toolkit import regex_to_nfa # Converted to an automaton, used for measuring complexity\n",
    "import random                             # For random data generation\n",
    "import matplotlib.pyplot as plt           # Visualisation\n",
    "from numpy.random import beta             # For data generation that adheres distributions\n",
    "import re                                 # Regular expressions\n",
    "import pandas as pd                       # Data table\n",
    "import numpy as np                        # For supporting arrays\n",
    "\n",
    "# For comparing the complexity of the tasks based on regexes\n",
    "def regex_complexity(regex):\n",
    "    nfa = regex_to_nfa.regex_to_nfa(regex)\n",
    "    return len(nfa['states'])\n",
    "\n",
    "# Generate random strings\n",
    "def pad_string(string, alphabet):\n",
    "    # Get size of padding from beta distribution\n",
    "    padding_size_left, padding_size_right = beta(a=1, b=5, size=2)\n",
    "    padding_size_left = round(padding_size_left * len(string))\n",
    "    padding_size_right = round(padding_size_right * len(string))\n",
    "    string = list(string)\n",
    "    for _ in range(padding_size_left):\n",
    "        string.insert(0, random.choice(alphabet))\n",
    "    for _ in range(padding_size_right):\n",
    "        string.append(random.choice(alphabet))\n",
    "    return \"\".join(string)\n",
    "\n",
    "# Modify string by mutating, deleting, inserting or swapping characters\n",
    "def mutate(string, intensity, alphabet):\n",
    "    # Draw amount of changes from beta distribution\n",
    "    changes = round(beta(a=intensity, b=5) * len(string))\n",
    "    if changes == 0:\n",
    "        changes = 1\n",
    "    # Choose randomly between mutation, deletion, insertion and swap\n",
    "    core = list(string)\n",
    "    for _ in range(changes):\n",
    "        operation = random.choice([\"mutate\", \"delete\", \"insert\", \"swap\"])\n",
    "        index = random.randint(0, len(core) - 1)\n",
    "        if operation == \"mutate\":\n",
    "            core[index] = random.choice(alphabet)\n",
    "        elif operation == \"delete\":\n",
    "            del core[index]\n",
    "        elif operation == \"insert\":\n",
    "            core.insert(index, random.choice(alphabet))\n",
    "        elif operation == \"swap\":\n",
    "            other_index = random.randint(0, len(core) - 1)\n",
    "            core[index], core[other_index] = core[other_index], core[index]\n",
    "    return \"\".join(core)\n",
    "\n",
    "# Make a dataset with two classes: valid and invalid\n",
    "def assemble_classification_dataset(generator, regex, name):\n",
    "    # Try generating 10000 valid strings, checking for duplicates\n",
    "    valid = []\n",
    "    while len(valid) < 10000:\n",
    "        string = generator(valid=True)\n",
    "        if bool(re.search(regex, string)) == True:\n",
    "            # Check if there is a duplicate already in the list\n",
    "            if string not in valid:\n",
    "                valid.append(string)\n",
    "\n",
    "    invalid = []\n",
    "    while len(invalid) < 10000:\n",
    "        string = generator(valid=False)\n",
    "        if bool(re.search(regex, string)) == False:\n",
    "            # Check if there is a duplicate already in the list\n",
    "            if string not in invalid:\n",
    "                invalid.append(string)\n",
    "\n",
    "    # Generate dataframe with two columns: \"string\" and \"valid\"\n",
    "    df = pd.DataFrame({\"string\": valid + invalid, \"valid\": [True] * 10000 + [False] * 10000})\n",
    "    # Save dataframe to CSV file\n",
    "    df.to_csv(f\"{name}.csv\", index=False)\n",
    "    print(df.head(5))\n",
    "    print(df[df[\"valid\"] == False].head(5))\n",
    "    return df\n",
    "\n",
    "# Make a dataset where output is a multilabel regression\n",
    "def assemble_regression_dataset(generator, converter, name):\n",
    "    # Try generating 10000 valid strings, checking for duplicates\n",
    "    X = []\n",
    "    y = []\n",
    "    for _ in range(20000):\n",
    "        lst = generator()\n",
    "        # Convert lst to numpy array\n",
    "        X.append(np.array(lst))\n",
    "        y.append(np.array(converter(lst)))\n",
    "\n",
    "    # Generate dataframe with two columns: \"string\" and \"valid\"\n",
    "    df = pd.DataFrame({\"X\": X, \"y\": y})\n",
    "    # Save dataframe with pickle\n",
    "    df.to_pickle(f\"{name}.pkl\")\n",
    "    print(df.head(5))\n",
    "    return df\n",
    "\n",
    "# Produce a single example of a time string\n",
    "def generate_time_string(valid=True):\n",
    "    alphabet = \"0123456789APapMm: \"\n",
    "    hours = random.randint(1, 12)\n",
    "    minutes = random.randint(0, 59)\n",
    "    am_pm = random.choice([\"AM\", \"PM\"])\n",
    "    # Pad minutes with 0 if needed\n",
    "    if minutes < 10:\n",
    "        minutes = f\"0{minutes}\"\n",
    "    # Optional space between numbers and AM/PM\n",
    "    if random.random() > 0.5:\n",
    "        divider = \" \"\n",
    "    else:\n",
    "        divider = \"\"\n",
    "\n",
    "    core = f\"{hours}:{minutes}{divider}{am_pm}\"\n",
    "\n",
    "    if valid == False:\n",
    "        core = mutate(string=core, intensity=3, alphabet=alphabet)\n",
    "    return pad_string(core, alphabet = alphabet)"
   ],
   "metadata": {
    "collapsed": false,
    "pycharm": {
     "name": "#%%\n"
    }
   }
  },
  {
   "cell_type": "markdown",
   "source": [
    "## The first two datasets: regex"
   ],
   "metadata": {
    "collapsed": false,
    "pycharm": {
     "name": "#%% md\n"
    }
   }
  },
  {
   "cell_type": "code",
   "execution_count": 107,
   "outputs": [
    {
     "data": {
      "text/plain": "<Figure size 640x480 with 1 Axes>",
      "image/png": "[encoded data removed]"
     },
     "metadata": {},
     "output_type": "display_data"
    }
   ],
   "source": [
    "# Beta distribution https://en.wikipedia.org/wiki/Beta_distribution\n",
    "# Used to introduce randomness in the amount of padding and mutations\n",
    "random.seed(42)\n",
    "values = beta(a=2, b=5, size=1000)\n",
    "\n",
    "# Illustrate distribution\n",
    "plt.hist(values, bins=20, density=True)\n",
    "plt.show()\n",
    "values = [round(value, 2) for value in values]"
   ],
   "metadata": {
    "collapsed": false,
    "pycharm": {
     "name": "#%%\n"
    }
   }
  },
  {
   "cell_type": "code",
   "execution_count": 5,
   "outputs": [
    {
     "name": "stdout",
     "output_type": "stream",
     "text": [
      "Complexity of time regex: 66\n",
      "Complexity of ipv6 regex: 1198\n"
     ]
    }
   ],
   "source": [
    "# Define regexes\n",
    "time_regex = r\"(0?[1-9]|1[012]):([0-5]\\d)?\\s?[APap][mM]\" # Time string example: 12:00 AM, Time alphabet: [0-9APapMm:]\n",
    "ipv6_regex = r\"(([0-9a-fA-F]{1,4}:){7,7}[0-9a-fA-F]{1,4}|([0-9a-fA-F]{1,4}:){1,7}:|([0-9a-fA-F]{1,4}:){1,6}:[0-9a-fA-F]{1,4}|([0-9a-fA-F]{1,4}:){1,5}(:[0-9a-fA-F]{1,4}){1,2}|([0-9a-fA-F]{1,4}:){1,4}(:[0-9a-fA-F]{1,4}){1,3}|([0-9a-fA-F]{1,4}:){1,3}(:[0-9a-fA-F]{1,4}){1,4}|([0-9a-fA-F]{1,4}:){1,2}(:[0-9a-fA-F]{1,4}){1,5}|[0-9a-fA-F]{1,4}:((:[0-9a-fA-F]{1,4}){1,6})|:((:[0-9a-fA-F]{1,4}){1,7}|:)|fe80:(:[0-9a-fA-F]{0,4}){0,4}%[0-9a-zA-Z]{1,}|::(ffff(:0{1,4}){0,1}:){0,1}((25[0-5]|(2[0-4]|1{0,1}[0-9]){0,1}[0-9])\\.){3,3}(25[0-5]|(2[0-4]|1{0,1}[0-9]){0,1}[0-9])|([0-9a-fA-F]{1,4}:){1,4}:((25[0-5]|(2[0-4]|1{0,1}[0-9]){0,1}[0-9])\\.){3,3}(25[0-5]|(2[0-4]|1{0,1}[0-9]){0,1}[0-9]))\" # An example of IPv6 string: 2001:0db8:85a3:0000:0000:8a2e:0370:7334, IPv6 alphabet: [0-9a-fA-F:]\n",
    "\n",
    "# Measure complexity of regexes\n",
    "complexity = regex_complexity(time_regex)\n",
    "print(f\"Complexity of time regex: {complexity}\")\n",
    "complexity = regex_complexity(ipv6_regex)\n",
    "print(f\"Complexity of ipv6 regex: {complexity}\")"
   ],
   "metadata": {
    "collapsed": false,
    "pycharm": {
     "name": "#%%\n"
    }
   }
  },
  {
   "cell_type": "code",
   "execution_count": 75,
   "outputs": [
    {
     "name": "stdout",
     "output_type": "stream",
     "text": [
      "        string  valid\n",
      "0  0657:03 AMp   True\n",
      "1       1:59AM   True\n",
      "2      38:14AM   True\n",
      "3     A8:15 AM   True\n",
      "4       2:04AM   True\n",
      "            string  valid\n",
      "10000    9:A2 PMMm  False\n",
      "10001    a451461M0  False\n",
      "10002     721:4AM0  False\n",
      "10003  P8:40 P88Mp  False\n",
      "10004    P:4p1MPm5  False\n"
     ]
    }
   ],
   "source": [
    "# Generate the first dataset with 10000 valid and 10000 invalid time strings\n",
    "assemble_classification_dataset(generator=generate_time_string, regex=time_regex, name=\"time\")\n",
    "\n",
    "# Examine the produced dataset\n",
    "# Get lengths of strings\n",
    "lengths = [len(string) for string in df[\"string\"]]\n",
    "# Plot histogram\n",
    "\n",
    "plt.hist(lengths, bins=20, density=True)\n",
    "plt.show()"
   ],
   "metadata": {
    "collapsed": false,
    "pycharm": {
     "name": "#%%\n"
    }
   }
  },
  {
   "cell_type": "code",
   "execution_count": 130,
   "outputs": [
    {
     "name": "stdout",
     "output_type": "stream",
     "text": [
      "                                              string  valid\n",
      "0         f2f8bb4:c7dc:dff8:30ed:8d6b:9a3e:c77:dfdbb   True\n",
      "1  9:62e26c11a:c2fb:8467:acbd:d016:5026:acea:3b9e...   True\n",
      "2  Eaa:DE2527:96d3:3513:9ac4:fbc2:60c0:fe14:9bd57...   True\n",
      "3  :A6CFa14ab:da3d:6fb:2922:799a:ea7a:192:c3b1C37319   True\n",
      "4  5DcBa2f4:b191:e0d5:bc0e:1f66:921a:2fac:2374e9E...   True\n",
      "                                                  string  valid\n",
      "10000  13A0db2cdcdb2:f86cbF:dc6c:db18:e3321E:DD964d1:...  False\n",
      "10001  :B3Cfaa4:9297F186:788:b4de:de4:dddb:4e63Bb8D65...  False\n",
      "10002  a86Aebb02361939:Dc548:64cc:247c4D1645:aeb:e0e7...  False\n",
      "10003  2E7:de:8f:e6f:f21bbd82186e4d:c033c8f:675f5b0:3...  False\n",
      "10004  40:99401459c3D:e549:cefd:f4c8dff6:Cbf1696168:E...  False\n"
     ]
    },
    {
     "data": {
      "text/plain": "<Figure size 640x480 with 1 Axes>",
      "image/png": "[encoded data removed]"
     },
     "metadata": {},
     "output_type": "display_data"
    }
   ],
   "source": [
    "# Generate random ipv6 strings\n",
    "def generate_ipv6_string(valid):\n",
    "    alphabet = \"0123456789abcdefABCDEF:\"\n",
    "    # Generate random ipv6 address\n",
    "    core = \":\".join([hex(random.randint(0, 65535))[2:] for _ in range(8)])\n",
    "    if valid == False:\n",
    "        core = mutate(string=core, intensity=2, alphabet=alphabet)\n",
    "    return pad_string(core, alphabet = alphabet)\n",
    "\n",
    "# Generate the second dataset with 10000 valid and 10000 invalid time strings\n",
    "df = assemble_classification_dataset(generator=generate_ipv6_string, regex=ipv6_regex, name=\"ipv6\")\n",
    "\n",
    "# Examine the produced dataset\n",
    "# Get lengths of strings\n",
    "lengths = [len(string) for string in df[\"string\"]]\n",
    "\n",
    "# Plot histogram\n",
    "plt.hist(lengths, bins=20)\n",
    "plt.show()"
   ],
   "metadata": {
    "collapsed": false,
    "pycharm": {
     "name": "#%%\n"
    }
   }
  },
  {
   "cell_type": "markdown",
   "source": [
    "## Third task dataset: Array of random numbers"
   ],
   "metadata": {
    "collapsed": false,
    "pycharm": {
     "name": "#%% md\n"
    }
   }
  },
  {
   "cell_type": "code",
   "execution_count": 146,
   "outputs": [
    {
     "name": "stdout",
     "output_type": "stream",
     "text": [
      "[0.256, 0.349, 0.416, 0.549, 0.192, 0.712]\n",
      "[0.8333333333333334, 0.6666666666666666]\n"
     ]
    }
   ],
   "source": [
    "# Generate arrays of numbers and find largest 5 in them\n",
    "def generate_array():\n",
    "    # Generate array of random length\n",
    "    length = 5 + round(beta(a=2, b=5) * 10)\n",
    "    lst = [random.randint(0, 1000)/1000 for _ in range(length)]\n",
    "    return lst\n",
    "\n",
    "# Perform calculation that will be inferred by the models\n",
    "def find_ids_of_largest_and_smallest(array):\n",
    "    # Sort array in descending order\n",
    "    sorted_array = sorted(array, reverse=True)\n",
    "    # Get ids of largest and smallest elements\n",
    "    largest_ids = [array.index(value) for value in sorted_array[:1]]\n",
    "    smallest_ids = [array.index(value) for value in sorted_array[-1:]]\n",
    "    ids = largest_ids + smallest_ids\n",
    "    # Convert ids to 0.0 - 1.0 range\n",
    "    return [id/len(array) for id in ids]\n",
    "\n",
    "# Show example\n",
    "array = generate_array()\n",
    "print(array)\n",
    "print(find_ids_of_largest_and_smallest(array))"
   ],
   "metadata": {
    "collapsed": false,
    "pycharm": {
     "name": "#%%\n"
    }
   }
  },
  {
   "cell_type": "code",
   "execution_count": 147,
   "outputs": [
    {
     "name": "stdout",
     "output_type": "stream",
     "text": [
      "                                                   X  \\\n",
      "0  [0.057, 0.277, 0.758, 0.466, 0.518, 0.076, 0.469]   \n",
      "1  [0.715, 0.005, 0.399, 0.535, 0.767, 0.018, 0.554]   \n",
      "2  [0.761, 0.158, 0.204, 0.303, 0.222, 0.92, 0.44...   \n",
      "3  [0.337, 0.63, 0.37, 0.662, 0.999, 0.198, 0.172...   \n",
      "4  [0.726, 0.901, 0.601, 0.129, 0.743, 0.663, 0.2...   \n",
      "\n",
      "                                           y  \n",
      "0                  [0.2857142857142857, 0.0]  \n",
      "1  [0.5714285714285714, 0.14285714285714285]  \n",
      "2                             [0.625, 0.125]  \n",
      "3   [0.4444444444444444, 0.6666666666666666]  \n",
      "4                             [0.875, 0.375]  \n"
     ]
    },
    {
     "data": {
      "text/plain": "<Figure size 640x480 with 1 Axes>",
      "image/png": "[encoded data removed]"
     },
     "metadata": {},
     "output_type": "display_data"
    }
   ],
   "source": [
    "# Generate the third dataset\n",
    "df = assemble_regression_dataset(generator=generate_array, name=\"lst\", converter=find_ids_of_largest_and_smallest)\n",
    "\n",
    "# Examine the produced dataset\n",
    "# Get lengths of strings\n",
    "lengths = [len(lst) for lst in df[\"X\"]]\n",
    "\n",
    "# Plot histogram\n",
    "plt.hist(lengths, bins=40)\n",
    "plt.show()"
   ],
   "metadata": {
    "collapsed": false,
    "pycharm": {
     "name": "#%%\n"
    }
   }
  }
 ],
 "metadata": {
  "kernelspec": {
   "display_name": "Python 3",
   "language": "python",
   "name": "python3"
  },
  "language_info": {
   "codemirror_mode": {
    "name": "ipython",
    "version": 2
   },
   "file_extension": ".py",
   "mimetype": "text/x-python",
   "name": "python",
   "nbconvert_exporter": "python",
   "pygments_lexer": "ipython2",
   "version": "2.7.6"
  }
 },
 "nbformat": 4,
 "nbformat_minor": 0
}